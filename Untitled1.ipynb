{
 "metadata": {
  "name": "",
  "signature": "sha256:7f7b3d29bc5d7fdd102ef22bd0de4559fa1b1d13fbb0598c67a5b6c5769c1d99"
 },
 "nbformat": 3,
 "nbformat_minor": 0,
 "worksheets": [
  {
   "cells": [
    {
     "cell_type": "code",
     "collapsed": false,
     "input": [
      "from faker import Faker as fk\n"
     ],
     "language": "python",
     "metadata": {},
     "outputs": [],
     "prompt_number": 5
    },
    {
     "cell_type": "code",
     "collapsed": false,
     "input": [
      "fake = Faker()"
     ],
     "language": "python",
     "metadata": {},
     "outputs": [],
     "prompt_number": 7
    },
    {
     "cell_type": "code",
     "collapsed": false,
     "input": [
      "fake.text()"
     ],
     "language": "python",
     "metadata": {},
     "outputs": [
      {
       "metadata": {},
       "output_type": "pyout",
       "prompt_number": 61,
       "text": [
        "'Sed aut corrupti quia reiciendis harum. Non id enim sapiente sit cupiditate. Ipsam corporis sit quis nihil temporibus. Et nam enim illo qui. Sapiente totam nam nulla modi culpa sed cum nam.'"
       ]
      }
     ],
     "prompt_number": 61
    },
    {
     "cell_type": "code",
     "collapsed": false,
     "input": [
      "for _ in range(1,20):\n",
      "    print(str(fake.date_time_between(start_date='-1y', end_date='now')))"
     ],
     "language": "python",
     "metadata": {},
     "outputs": [
      {
       "output_type": "stream",
       "stream": "stdout",
       "text": [
        "2014-05-03 04:31:23\n",
        "2014-12-04 05:38:41\n",
        "2014-12-18 05:56:42\n",
        "2015-01-10 09:35:13\n",
        "2014-12-13 03:09:32\n",
        "2015-02-07 04:47:46\n",
        "2014-05-29 05:29:33\n",
        "2015-01-23 19:09:50\n",
        "2015-02-17 07:31:54\n",
        "2014-10-06 02:41:00\n",
        "2014-10-13 04:49:27\n",
        "2014-09-01 15:38:59\n",
        "2014-10-10 04:40:23\n",
        "2014-08-18 13:25:13\n",
        "2014-06-05 06:01:06\n",
        "2014-05-17 07:05:50\n",
        "2015-01-11 11:52:13\n",
        "2014-09-10 18:08:25\n",
        "2014-03-22 17:53:55\n"
       ]
      }
     ],
     "prompt_number": 77
    },
    {
     "cell_type": "code",
     "collapsed": false,
     "input": [
      "for _ in range(1,20):\n",
      "    print(fake.date(pattern=\"%Y-%m-%d\"))"
     ],
     "language": "python",
     "metadata": {},
     "outputs": [
      {
       "output_type": "stream",
       "stream": "stdout",
       "text": [
        "1981-08-06\n",
        "1980-12-25\n",
        "1989-02-02\n",
        "1994-03-22\n",
        "1970-04-01\n",
        "2004-06-02\n",
        "2001-09-08\n",
        "1991-11-06\n",
        "1974-09-26\n",
        "1986-04-02\n",
        "1982-01-02\n",
        "1977-07-03\n",
        "2008-10-06\n",
        "1975-10-02\n",
        "1997-06-26\n",
        "2012-07-08\n",
        "1981-11-22\n",
        "1983-01-12\n",
        "2009-10-30\n"
       ]
      }
     ],
     "prompt_number": 82
    },
    {
     "cell_type": "code",
     "collapsed": false,
     "input": [
      "for link in links:\n",
      "    for _ in range(100,500):\n",
      "         c = Click(clicks=fake.date_time_between(start_date='-1y', end_date='now'))\n",
      "         db.session.add(c)"
     ],
     "language": "python",
     "metadata": {},
     "outputs": []
    },
    {
     "cell_type": "code",
     "collapsed": false,
     "input": [
      "from datetime import datetime\n"
     ],
     "language": "python",
     "metadata": {},
     "outputs": [],
     "prompt_number": 78
    },
    {
     "cell_type": "code",
     "collapsed": false,
     "input": [
      "datetime.date"
     ],
     "language": "python",
     "metadata": {},
     "outputs": [
      {
       "metadata": {},
       "output_type": "pyout",
       "prompt_number": 79,
       "text": [
        "<method 'date' of 'datetime.datetime' objects>"
       ]
      }
     ],
     "prompt_number": 79
    },
    {
     "cell_type": "code",
     "collapsed": false,
     "input": [
      "datetime.date()"
     ],
     "language": "python",
     "metadata": {},
     "outputs": [
      {
       "ename": "TypeError",
       "evalue": "descriptor 'date' of 'datetime.datetime' object needs an argument",
       "output_type": "pyerr",
       "traceback": [
        "\u001b[0;31m---------------------------------------------------------------------------\u001b[0m\n\u001b[0;31mTypeError\u001b[0m                                 Traceback (most recent call last)",
        "\u001b[0;32m<ipython-input-80-c3db7d1b2d07>\u001b[0m in \u001b[0;36m<module>\u001b[0;34m()\u001b[0m\n\u001b[0;32m----> 1\u001b[0;31m \u001b[0mdatetime\u001b[0m\u001b[0;34m.\u001b[0m\u001b[0mdate\u001b[0m\u001b[0;34m(\u001b[0m\u001b[0;34m)\u001b[0m\u001b[0;34m\u001b[0m\u001b[0m\n\u001b[0m",
        "\u001b[0;31mTypeError\u001b[0m: descriptor 'date' of 'datetime.datetime' object needs an argument"
       ]
      }
     ],
     "prompt_number": 80
    },
    {
     "cell_type": "code",
     "collapsed": false,
     "input": [
      "datetime.date.today"
     ],
     "language": "python",
     "metadata": {},
     "outputs": [
      {
       "ename": "AttributeError",
       "evalue": "'method_descriptor' object has no attribute 'today'",
       "output_type": "pyerr",
       "traceback": [
        "\u001b[0;31m---------------------------------------------------------------------------\u001b[0m\n\u001b[0;31mAttributeError\u001b[0m                            Traceback (most recent call last)",
        "\u001b[0;32m<ipython-input-81-db8f99f0a5ff>\u001b[0m in \u001b[0;36m<module>\u001b[0;34m()\u001b[0m\n\u001b[0;32m----> 1\u001b[0;31m \u001b[0mdatetime\u001b[0m\u001b[0;34m.\u001b[0m\u001b[0mdate\u001b[0m\u001b[0;34m.\u001b[0m\u001b[0mtoday\u001b[0m\u001b[0;34m\u001b[0m\u001b[0m\n\u001b[0m",
        "\u001b[0;31mAttributeError\u001b[0m: 'method_descriptor' object has no attribute 'today'"
       ]
      }
     ],
     "prompt_number": 81
    },
    {
     "cell_type": "code",
     "collapsed": false,
     "input": [],
     "language": "python",
     "metadata": {},
     "outputs": []
    }
   ],
   "metadata": {}
  }
 ]
}